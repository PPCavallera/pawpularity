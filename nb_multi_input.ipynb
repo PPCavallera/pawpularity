{
 "cells": [
  {
   "cell_type": "code",
   "execution_count": 1,
   "metadata": {},
   "outputs": [],
   "source": [
    "# !kaggle competitions download -c petfinder-pawpularity-score"
   ]
  },
  {
   "cell_type": "code",
   "execution_count": 2,
   "metadata": {},
   "outputs": [
    {
     "name": "stderr",
     "output_type": "stream",
     "text": [
      "e:\\Dev\\Anaconda\\envs\\torch\\lib\\site-packages\\tqdm\\auto.py:22: TqdmWarning: IProgress not found. Please update jupyter and ipywidgets. See https://ipywidgets.readthedocs.io/en/stable/user_install.html\n",
      "  from .autonotebook import tqdm as notebook_tqdm\n"
     ]
    },
    {
     "data": {
      "text/plain": [
       "device(type='cuda')"
      ]
     },
     "execution_count": 2,
     "metadata": {},
     "output_type": "execute_result"
    }
   ],
   "source": [
    "import pandas as pd\n",
    "from os import walk\n",
    "import glob\n",
    "import numpy as np\n",
    "from PIL import Image \n",
    "import cv2\n",
    "import re\n",
    "import torchvision.transforms as T\n",
    "import torchvision.models as models\n",
    "from torchvision.utils import make_grid\n",
    "from torchvision.datasets import ImageFolder\n",
    "from torch.utils.data import RandomSampler\n",
    "from matplotlib import pyplot as plt\n",
    "from torch.utils.data import DataLoader, Dataset\n",
    "import torch.nn as nn\n",
    "from torch.nn import functional as F\n",
    "import torch\n",
    "\n",
    "TRAIN_PATH = './input/train'\n",
    "TEST_PATH = './input/test'\n",
    "device = torch.device(\"cuda\" if torch.cuda.is_available() else \"cpu\") # use gpu or cpu\n",
    "device"
   ]
  },
  {
   "cell_type": "code",
   "execution_count": 3,
   "metadata": {},
   "outputs": [],
   "source": [
    "epochs = 20\n",
    "lr = 1e-3\n",
    "batch_size = 128"
   ]
  },
  {
   "cell_type": "code",
   "execution_count": 4,
   "metadata": {},
   "outputs": [
    {
     "data": {
      "text/html": [
       "<div>\n",
       "<style scoped>\n",
       "    .dataframe tbody tr th:only-of-type {\n",
       "        vertical-align: middle;\n",
       "    }\n",
       "\n",
       "    .dataframe tbody tr th {\n",
       "        vertical-align: top;\n",
       "    }\n",
       "\n",
       "    .dataframe thead th {\n",
       "        text-align: right;\n",
       "    }\n",
       "</style>\n",
       "<table border=\"1\" class=\"dataframe\">\n",
       "  <thead>\n",
       "    <tr style=\"text-align: right;\">\n",
       "      <th></th>\n",
       "      <th>Subject Focus</th>\n",
       "      <th>Eyes</th>\n",
       "      <th>Face</th>\n",
       "      <th>Near</th>\n",
       "      <th>Action</th>\n",
       "      <th>Accessory</th>\n",
       "      <th>Group</th>\n",
       "      <th>Collage</th>\n",
       "      <th>Human</th>\n",
       "      <th>Occlusion</th>\n",
       "      <th>Info</th>\n",
       "      <th>Blur</th>\n",
       "      <th>Pawpularity</th>\n",
       "    </tr>\n",
       "    <tr>\n",
       "      <th>Id</th>\n",
       "      <th></th>\n",
       "      <th></th>\n",
       "      <th></th>\n",
       "      <th></th>\n",
       "      <th></th>\n",
       "      <th></th>\n",
       "      <th></th>\n",
       "      <th></th>\n",
       "      <th></th>\n",
       "      <th></th>\n",
       "      <th></th>\n",
       "      <th></th>\n",
       "      <th></th>\n",
       "    </tr>\n",
       "  </thead>\n",
       "  <tbody>\n",
       "    <tr>\n",
       "      <th>0007de18844b0dbbb5e1f607da0606e0</th>\n",
       "      <td>0</td>\n",
       "      <td>1</td>\n",
       "      <td>1</td>\n",
       "      <td>1</td>\n",
       "      <td>0</td>\n",
       "      <td>0</td>\n",
       "      <td>1</td>\n",
       "      <td>0</td>\n",
       "      <td>0</td>\n",
       "      <td>0</td>\n",
       "      <td>0</td>\n",
       "      <td>0</td>\n",
       "      <td>63</td>\n",
       "    </tr>\n",
       "    <tr>\n",
       "      <th>0009c66b9439883ba2750fb825e1d7db</th>\n",
       "      <td>0</td>\n",
       "      <td>1</td>\n",
       "      <td>1</td>\n",
       "      <td>0</td>\n",
       "      <td>0</td>\n",
       "      <td>0</td>\n",
       "      <td>0</td>\n",
       "      <td>0</td>\n",
       "      <td>0</td>\n",
       "      <td>0</td>\n",
       "      <td>0</td>\n",
       "      <td>0</td>\n",
       "      <td>42</td>\n",
       "    </tr>\n",
       "    <tr>\n",
       "      <th>0013fd999caf9a3efe1352ca1b0d937e</th>\n",
       "      <td>0</td>\n",
       "      <td>1</td>\n",
       "      <td>1</td>\n",
       "      <td>1</td>\n",
       "      <td>0</td>\n",
       "      <td>0</td>\n",
       "      <td>0</td>\n",
       "      <td>0</td>\n",
       "      <td>1</td>\n",
       "      <td>1</td>\n",
       "      <td>0</td>\n",
       "      <td>0</td>\n",
       "      <td>28</td>\n",
       "    </tr>\n",
       "    <tr>\n",
       "      <th>0018df346ac9c1d8413cfcc888ca8246</th>\n",
       "      <td>0</td>\n",
       "      <td>1</td>\n",
       "      <td>1</td>\n",
       "      <td>1</td>\n",
       "      <td>0</td>\n",
       "      <td>0</td>\n",
       "      <td>0</td>\n",
       "      <td>0</td>\n",
       "      <td>0</td>\n",
       "      <td>0</td>\n",
       "      <td>0</td>\n",
       "      <td>0</td>\n",
       "      <td>15</td>\n",
       "    </tr>\n",
       "    <tr>\n",
       "      <th>001dc955e10590d3ca4673f034feeef2</th>\n",
       "      <td>0</td>\n",
       "      <td>0</td>\n",
       "      <td>0</td>\n",
       "      <td>1</td>\n",
       "      <td>0</td>\n",
       "      <td>0</td>\n",
       "      <td>1</td>\n",
       "      <td>0</td>\n",
       "      <td>0</td>\n",
       "      <td>0</td>\n",
       "      <td>0</td>\n",
       "      <td>0</td>\n",
       "      <td>72</td>\n",
       "    </tr>\n",
       "    <tr>\n",
       "      <th>...</th>\n",
       "      <td>...</td>\n",
       "      <td>...</td>\n",
       "      <td>...</td>\n",
       "      <td>...</td>\n",
       "      <td>...</td>\n",
       "      <td>...</td>\n",
       "      <td>...</td>\n",
       "      <td>...</td>\n",
       "      <td>...</td>\n",
       "      <td>...</td>\n",
       "      <td>...</td>\n",
       "      <td>...</td>\n",
       "      <td>...</td>\n",
       "    </tr>\n",
       "    <tr>\n",
       "      <th>ffbfa0383c34dc513c95560d6e1fdb57</th>\n",
       "      <td>0</td>\n",
       "      <td>0</td>\n",
       "      <td>0</td>\n",
       "      <td>1</td>\n",
       "      <td>0</td>\n",
       "      <td>0</td>\n",
       "      <td>0</td>\n",
       "      <td>0</td>\n",
       "      <td>0</td>\n",
       "      <td>0</td>\n",
       "      <td>0</td>\n",
       "      <td>1</td>\n",
       "      <td>15</td>\n",
       "    </tr>\n",
       "    <tr>\n",
       "      <th>ffcc8532d76436fc79e50eb2e5238e45</th>\n",
       "      <td>0</td>\n",
       "      <td>1</td>\n",
       "      <td>1</td>\n",
       "      <td>1</td>\n",
       "      <td>0</td>\n",
       "      <td>0</td>\n",
       "      <td>0</td>\n",
       "      <td>0</td>\n",
       "      <td>0</td>\n",
       "      <td>0</td>\n",
       "      <td>0</td>\n",
       "      <td>0</td>\n",
       "      <td>70</td>\n",
       "    </tr>\n",
       "    <tr>\n",
       "      <th>ffdf2e8673a1da6fb80342fa3b119a20</th>\n",
       "      <td>0</td>\n",
       "      <td>1</td>\n",
       "      <td>1</td>\n",
       "      <td>1</td>\n",
       "      <td>0</td>\n",
       "      <td>0</td>\n",
       "      <td>0</td>\n",
       "      <td>0</td>\n",
       "      <td>1</td>\n",
       "      <td>1</td>\n",
       "      <td>0</td>\n",
       "      <td>0</td>\n",
       "      <td>20</td>\n",
       "    </tr>\n",
       "    <tr>\n",
       "      <th>fff19e2ce11718548fa1c5d039a5192a</th>\n",
       "      <td>0</td>\n",
       "      <td>1</td>\n",
       "      <td>1</td>\n",
       "      <td>1</td>\n",
       "      <td>0</td>\n",
       "      <td>0</td>\n",
       "      <td>0</td>\n",
       "      <td>0</td>\n",
       "      <td>1</td>\n",
       "      <td>0</td>\n",
       "      <td>0</td>\n",
       "      <td>0</td>\n",
       "      <td>20</td>\n",
       "    </tr>\n",
       "    <tr>\n",
       "      <th>fff8e47c766799c9e12f3cb3d66ad228</th>\n",
       "      <td>0</td>\n",
       "      <td>1</td>\n",
       "      <td>1</td>\n",
       "      <td>1</td>\n",
       "      <td>0</td>\n",
       "      <td>0</td>\n",
       "      <td>0</td>\n",
       "      <td>0</td>\n",
       "      <td>0</td>\n",
       "      <td>0</td>\n",
       "      <td>0</td>\n",
       "      <td>0</td>\n",
       "      <td>30</td>\n",
       "    </tr>\n",
       "  </tbody>\n",
       "</table>\n",
       "<p>9912 rows × 13 columns</p>\n",
       "</div>"
      ],
      "text/plain": [
       "                                  Subject Focus  Eyes  Face  Near  Action  \\\n",
       "Id                                                                          \n",
       "0007de18844b0dbbb5e1f607da0606e0              0     1     1     1       0   \n",
       "0009c66b9439883ba2750fb825e1d7db              0     1     1     0       0   \n",
       "0013fd999caf9a3efe1352ca1b0d937e              0     1     1     1       0   \n",
       "0018df346ac9c1d8413cfcc888ca8246              0     1     1     1       0   \n",
       "001dc955e10590d3ca4673f034feeef2              0     0     0     1       0   \n",
       "...                                         ...   ...   ...   ...     ...   \n",
       "ffbfa0383c34dc513c95560d6e1fdb57              0     0     0     1       0   \n",
       "ffcc8532d76436fc79e50eb2e5238e45              0     1     1     1       0   \n",
       "ffdf2e8673a1da6fb80342fa3b119a20              0     1     1     1       0   \n",
       "fff19e2ce11718548fa1c5d039a5192a              0     1     1     1       0   \n",
       "fff8e47c766799c9e12f3cb3d66ad228              0     1     1     1       0   \n",
       "\n",
       "                                  Accessory  Group  Collage  Human  Occlusion  \\\n",
       "Id                                                                              \n",
       "0007de18844b0dbbb5e1f607da0606e0          0      1        0      0          0   \n",
       "0009c66b9439883ba2750fb825e1d7db          0      0        0      0          0   \n",
       "0013fd999caf9a3efe1352ca1b0d937e          0      0        0      1          1   \n",
       "0018df346ac9c1d8413cfcc888ca8246          0      0        0      0          0   \n",
       "001dc955e10590d3ca4673f034feeef2          0      1        0      0          0   \n",
       "...                                     ...    ...      ...    ...        ...   \n",
       "ffbfa0383c34dc513c95560d6e1fdb57          0      0        0      0          0   \n",
       "ffcc8532d76436fc79e50eb2e5238e45          0      0        0      0          0   \n",
       "ffdf2e8673a1da6fb80342fa3b119a20          0      0        0      1          1   \n",
       "fff19e2ce11718548fa1c5d039a5192a          0      0        0      1          0   \n",
       "fff8e47c766799c9e12f3cb3d66ad228          0      0        0      0          0   \n",
       "\n",
       "                                  Info  Blur  Pawpularity  \n",
       "Id                                                         \n",
       "0007de18844b0dbbb5e1f607da0606e0     0     0           63  \n",
       "0009c66b9439883ba2750fb825e1d7db     0     0           42  \n",
       "0013fd999caf9a3efe1352ca1b0d937e     0     0           28  \n",
       "0018df346ac9c1d8413cfcc888ca8246     0     0           15  \n",
       "001dc955e10590d3ca4673f034feeef2     0     0           72  \n",
       "...                                ...   ...          ...  \n",
       "ffbfa0383c34dc513c95560d6e1fdb57     0     1           15  \n",
       "ffcc8532d76436fc79e50eb2e5238e45     0     0           70  \n",
       "ffdf2e8673a1da6fb80342fa3b119a20     0     0           20  \n",
       "fff19e2ce11718548fa1c5d039a5192a     0     0           20  \n",
       "fff8e47c766799c9e12f3cb3d66ad228     0     0           30  \n",
       "\n",
       "[9912 rows x 13 columns]"
      ]
     },
     "execution_count": 4,
     "metadata": {},
     "output_type": "execute_result"
    }
   ],
   "source": [
    "df_train = pd.read_csv(TRAIN_PATH+'.csv', index_col='Id')\n",
    "df_train"
   ]
  },
  {
   "cell_type": "code",
   "execution_count": 5,
   "metadata": {},
   "outputs": [],
   "source": [
    "images = []\n",
    "for f in glob.iglob(TRAIN_PATH+'/*'):\n",
    "    images.append(f)\n",
    "\n"
   ]
  },
  {
   "cell_type": "code",
   "execution_count": 6,
   "metadata": {},
   "outputs": [],
   "source": [
    "input_train =[]\n",
    "for i in images:\n",
    "    regexp_1 = re.compile(r'\\./input/[^/]*[/|\\\\](.*)\\..*')\n",
    "    re_match = regexp_1.match(i)\n",
    "    input_train.append((i,tuple(df_train[df_train.index == re_match.groups()[0]].iloc[0].values)))"
   ]
  },
  {
   "cell_type": "code",
   "execution_count": 7,
   "metadata": {},
   "outputs": [],
   "source": [
    "transform = T.Compose([\n",
    "     T.Resize((256,256)), \n",
    "     T.ToTensor(),\n",
    "     T.Normalize((0.485, 0.456, 0.406), (0.229, 0.224, 0.225))\n",
    "\n",
    "])"
   ]
  },
  {
   "cell_type": "code",
   "execution_count": 8,
   "metadata": {},
   "outputs": [],
   "source": [
    "class CompleteDataset(Dataset):\n",
    "    \n",
    "    def __init__(self, imgs_list, transforms = None):\n",
    "        \n",
    "        super().__init__()\n",
    "        self.imgs_list = imgs_list\n",
    "        self.transforms = transforms\n",
    "        \n",
    "        \n",
    "    def __getitem__(self, index):\n",
    "    \n",
    "        image_path = self.imgs_list[index][0]\n",
    "        complentary_values = self.imgs_list[index][1][0:-1]\n",
    "        popularity = self.imgs_list[index][1][-1]\n",
    "        image = Image.open(image_path)\n",
    "        #Reading image\n",
    "        #Applying transforms on image\n",
    "        if self.transforms:\n",
    "            image = self.transforms(image)\n",
    "        \n",
    "        return image, torch.tensor(list(complentary_values)).float(),popularity\n",
    "        \n",
    "        \n",
    "        \n",
    "    def __len__(self):\n",
    "        return len(self.imgs_list)"
   ]
  },
  {
   "cell_type": "code",
   "execution_count": 9,
   "metadata": {},
   "outputs": [
    {
     "data": {
      "text/plain": [
       "()"
      ]
     },
     "execution_count": 9,
     "metadata": {},
     "output_type": "execute_result"
    }
   ],
   "source": [
    "()"
   ]
  },
  {
   "cell_type": "code",
   "execution_count": 10,
   "metadata": {},
   "outputs": [],
   "source": [
    "train_dataset = CompleteDataset(input_train, transform)"
   ]
  },
  {
   "cell_type": "code",
   "execution_count": 11,
   "metadata": {},
   "outputs": [],
   "source": [
    "# train_random_sampler = RandomSampler(train_dataset)\n",
    "train_data_loader = DataLoader(\n",
    "    dataset = train_dataset,\n",
    "    batch_size = batch_size,\n",
    "    shuffle=True,\n",
    ")"
   ]
  },
  {
   "cell_type": "code",
   "execution_count": 37,
   "metadata": {},
   "outputs": [],
   "source": [
    "class Net(nn.Module):\n",
    "    def __init__(self):\n",
    "        super(Net, self).__init__()\n",
    "        # Convolution 1\n",
    "        self.cnn1 = nn.Conv2d(in_channels=3, out_channels=16, kernel_size=3, stride=1)\n",
    "        self.relu = nn.ReLU()\n",
    "        self.cnn2 = nn.Conv2d(in_channels=16, out_channels=32, kernel_size=3, stride=1)\n",
    "        self.relu = nn.ReLU()\n",
    "        self.fc_cnn_1 = nn.Linear(2032128, 16)  \n",
    "\n",
    "        \n",
    "        self.fc_linear_1 = nn.Linear(12,16)\n",
    "        self.fc_linear_2 = nn.Linear(32,32)\n",
    "        self.fc_linear_3 = nn.Linear(32,16)\n",
    "\n",
    "\n",
    "        self.fcout = nn.Linear(32, 1)    \n",
    "\n",
    "    def forward(self, x):\n",
    "        out_cnn = self.cnn1(x[0])\n",
    "        out_cnn = self.relu(out_cnn)\n",
    "        out_cnn = self.cnn2(out_cnn)\n",
    "        out_cnn = self.relu(out_cnn)\n",
    "        out_cnn = out_cnn.view(out_cnn.size(0), -1)\n",
    "        out_cnn = self.fc_cnn_1(out_cnn)\n",
    "\n",
    "\n",
    "        out_cnn = self.relu(out_cnn)\n",
    "        out_linear = self.fc_linear_1(x[1])\n",
    "        out_linear = self.relu(out_linear)\n",
    "\n",
    "\n",
    "        out = torch.cat((out_cnn, out_linear), dim=1)\n",
    "\n",
    "        out = self.fcout(out)\n",
    "\n",
    "        return out"
   ]
  },
  {
   "cell_type": "code",
   "execution_count": 38,
   "metadata": {},
   "outputs": [
    {
     "data": {
      "text/plain": [
       "Net(\n",
       "  (cnn1): Conv2d(3, 16, kernel_size=(3, 3), stride=(1, 1))\n",
       "  (relu): ReLU()\n",
       "  (cnn2): Conv2d(16, 32, kernel_size=(3, 3), stride=(1, 1))\n",
       "  (fc_cnn_1): Linear(in_features=2032128, out_features=16, bias=True)\n",
       "  (fc_linear_1): Linear(in_features=12, out_features=16, bias=True)\n",
       "  (fc_linear_2): Linear(in_features=32, out_features=32, bias=True)\n",
       "  (fc_linear_3): Linear(in_features=32, out_features=16, bias=True)\n",
       "  (fcout): Linear(in_features=32, out_features=1, bias=True)\n",
       ")"
      ]
     },
     "execution_count": 38,
     "metadata": {},
     "output_type": "execute_result"
    }
   ],
   "source": [
    "model = Net()\n",
    "model = model.to(device)\n",
    "model"
   ]
  },
  {
   "cell_type": "code",
   "execution_count": 39,
   "metadata": {},
   "outputs": [],
   "source": [
    "optimizer = torch.optim.Adam(model.parameters(), lr = lr)\n",
    "criterion = nn.MSELoss()\n"
   ]
  },
  {
   "cell_type": "code",
   "execution_count": 41,
   "metadata": {},
   "outputs": [
    {
     "ename": "KeyboardInterrupt",
     "evalue": "",
     "output_type": "error",
     "traceback": [
      "\u001b[1;31m---------------------------------------------------------------------------\u001b[0m",
      "\u001b[1;31mKeyboardInterrupt\u001b[0m                         Traceback (most recent call last)",
      "\u001b[1;32me:\\Source\\Repos\\pawpularity\\nb_multi_input.ipynb Cell 15\u001b[0m line \u001b[0;36m<cell line: 3>\u001b[1;34m()\u001b[0m\n\u001b[0;32m      <a href='vscode-notebook-cell:/e%3A/Source/Repos/pawpularity/nb_multi_input.ipynb#X41sZmlsZQ%3D%3D?line=3'>4</a>\u001b[0m current_loss \u001b[39m=\u001b[39m []\n\u001b[0;32m      <a href='vscode-notebook-cell:/e%3A/Source/Repos/pawpularity/nb_multi_input.ipynb#X41sZmlsZQ%3D%3D?line=5'>6</a>\u001b[0m \u001b[39mfor\u001b[39;00m i, (images,comp_values, labels) \u001b[39min\u001b[39;00m \u001b[39menumerate\u001b[39m(train_data_loader):\n\u001b[1;32m----> <a href='vscode-notebook-cell:/e%3A/Source/Repos/pawpularity/nb_multi_input.ipynb#X41sZmlsZQ%3D%3D?line=7'>8</a>\u001b[0m     images \u001b[39m=\u001b[39m images\u001b[39m.\u001b[39;49mto(device)\n\u001b[0;32m      <a href='vscode-notebook-cell:/e%3A/Source/Repos/pawpularity/nb_multi_input.ipynb#X41sZmlsZQ%3D%3D?line=8'>9</a>\u001b[0m     comp_values \u001b[39m=\u001b[39m comp_values\u001b[39m.\u001b[39mto(device)\n\u001b[0;32m     <a href='vscode-notebook-cell:/e%3A/Source/Repos/pawpularity/nb_multi_input.ipynb#X41sZmlsZQ%3D%3D?line=9'>10</a>\u001b[0m     labels \u001b[39m=\u001b[39m labels\u001b[39m.\u001b[39mto(device)\n",
      "\u001b[1;31mKeyboardInterrupt\u001b[0m: "
     ]
    }
   ],
   "source": [
    "train_loss = []\n",
    "\n",
    "for epoch in range(epochs):\n",
    "    current_loss = []\n",
    "    \n",
    "    for i, (images,comp_values, labels) in enumerate(train_data_loader):\n",
    "\n",
    "        images = images.to(device)\n",
    "        comp_values = comp_values.to(device)\n",
    "        labels = labels.to(device)\n",
    "        optimizer.zero_grad()        \n",
    "        preds = model([images, comp_values])\n",
    "        loss = criterion(preds, labels.float())\n",
    "\n",
    "        loss.backward()\n",
    "        optimizer.step()\n",
    "        current_loss.append(loss.cpu().item())\n",
    "        if i % 50 == 0 :\n",
    "            print(f\"Iter : {i} Current mean loss : {np.sum(current_loss)/len(current_loss)}\")\n",
    "    mean_epoch_loss = np.sum(current_loss)/len(current_loss)\n",
    "    train_loss.append(mean_epoch_loss)\n",
    "    print(f'Epoch : {epoch} / {epochs} Mean loss : {mean_epoch_loss}')\n",
    "\n",
    "\n"
   ]
  },
  {
   "cell_type": "code",
   "execution_count": 16,
   "metadata": {},
   "outputs": [
    {
     "ename": "AttributeError",
     "evalue": "'list' object has no attribute 'show'",
     "output_type": "error",
     "traceback": [
      "\u001b[1;31m---------------------------------------------------------------------------\u001b[0m",
      "\u001b[1;31mAttributeError\u001b[0m                            Traceback (most recent call last)",
      "\u001b[1;32me:\\Source\\Repos\\pawpularity\\nb_multi_input.ipynb Cell 16\u001b[0m line \u001b[0;36m<cell line: 2>\u001b[1;34m()\u001b[0m\n\u001b[0;32m      <a href='vscode-notebook-cell:/e%3A/Source/Repos/pawpularity/nb_multi_input.ipynb#X20sZmlsZQ%3D%3D?line=0'>1</a>\u001b[0m fig \u001b[39m=\u001b[39m plt\u001b[39m.\u001b[39mplot(train_loss)\n\u001b[1;32m----> <a href='vscode-notebook-cell:/e%3A/Source/Repos/pawpularity/nb_multi_input.ipynb#X20sZmlsZQ%3D%3D?line=1'>2</a>\u001b[0m fig\u001b[39m.\u001b[39;49mshow()\n",
      "\u001b[1;31mAttributeError\u001b[0m: 'list' object has no attribute 'show'"
     ]
    },
    {
     "data": {
      "image/png": "[encoded data removed]",
      "text/plain": [
       "<Figure size 432x288 with 1 Axes>"
      ]
     },
     "metadata": {
      "needs_background": "light"
     },
     "output_type": "display_data"
    }
   ],
   "source": [
    "fig = plt.plot(train_loss)\n",
    "fig.show()"
   ]
  },
  {
   "cell_type": "code",
   "execution_count": null,
   "metadata": {},
   "outputs": [],
   "source": []
  }
 ],
 "metadata": {
  "kernelspec": {
   "display_name": "Python 3",
   "language": "python",
   "name": "python3"
  },
  "language_info": {
   "codemirror_mode": {
    "name": "ipython",
    "version": 3
   },
   "file_extension": ".py",
   "mimetype": "text/x-python",
   "name": "python",
   "nbconvert_exporter": "python",
   "pygments_lexer": "ipython3",
   "version": "3.9.15"
  },
  "orig_nbformat": 4
 },
 "nbformat": 4,
 "nbformat_minor": 2
}
